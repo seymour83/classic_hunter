{
 "cells": [
  {
   "cell_type": "code",
   "execution_count": 2,
   "metadata": {
    "collapsed": true
   },
   "outputs": [],
   "source": [
    "import pandas as pd"
   ]
  },
  {
   "cell_type": "code",
   "execution_count": 31,
   "outputs": [],
   "source": [
    "data = pd.read_csv('data/auto_databases_one_October_2022.csv')"
   ],
   "metadata": {
    "collapsed": false
   }
  },
  {
   "cell_type": "code",
   "execution_count": 11,
   "outputs": [],
   "source": [
    "data.drop(columns=['trim_ru','make_ru','model_ru','generation_ru','body_ru','drive_ru','gearbox_ru','engine_type_ru'],inplace=True)"
   ],
   "metadata": {
    "collapsed": false
   }
  },
  {
   "cell_type": "code",
   "execution_count": 12,
   "outputs": [
    {
     "data": {
      "text/plain": "   trim_id                        trim  make_id make  model_id    model  \\\n0        1             4.6 MT (326 Hp)        1   AC         1      Ace   \n1    48225  31631 2.2d MT (116 Hp) 4WD      161  UAZ      1062  Patriot   \n2        2             2.9 AT (195 Hp)        1   AC         1      Ace   \n3        3             2.9 MT (195 Hp)        1   AC         1      Ace   \n4        4             3.0 MT (223 Hp)        1   AC         1      Ace   \n\n   generation_id generation  body_id        body  ...    gearbox  \\\n0              1        Ace        9    Roadster  ...     Manual   \n1           5087          I       21  SUV 5-Door  ...     Manual   \n2              1        Ace        9    Roadster  ...  Automatic   \n3              1        Ace        9    Roadster  ...     Manual   \n4              1        Ace        9    Roadster  ...     Manual   \n\n  engine_type_id  engine_type engine_volume  engine_power  year  \\\n0              1     Gasoline          4601           326  1997   \n1              2       Diesel          2287           116  2004   \n2              1     Gasoline          2900           195  1995   \n3              1     Gasoline          2900           195  1995   \n4              1     Gasoline          3000           223  1995   \n\n                           image  date_update  is_active old_id  \n0           ac-ace-roadster-1995   2018-10-12          1      0  \n1  uaz-patriot-i-suv-5-door-2004   2020-05-06          1      0  \n2           ac-ace-roadster-1992   2016-11-17          1      0  \n3           ac-ace-roadster-1992   2016-11-17          1      0  \n4           ac-ace-roadster-1992   2016-11-17          1      0  \n\n[5 rows x 23 columns]",
      "text/html": "<div>\n<style scoped>\n    .dataframe tbody tr th:only-of-type {\n        vertical-align: middle;\n    }\n\n    .dataframe tbody tr th {\n        vertical-align: top;\n    }\n\n    .dataframe thead th {\n        text-align: right;\n    }\n</style>\n<table border=\"1\" class=\"dataframe\">\n  <thead>\n    <tr style=\"text-align: right;\">\n      <th></th>\n      <th>trim_id</th>\n      <th>trim</th>\n      <th>make_id</th>\n      <th>make</th>\n      <th>model_id</th>\n      <th>model</th>\n      <th>generation_id</th>\n      <th>generation</th>\n      <th>body_id</th>\n      <th>body</th>\n      <th>...</th>\n      <th>gearbox</th>\n      <th>engine_type_id</th>\n      <th>engine_type</th>\n      <th>engine_volume</th>\n      <th>engine_power</th>\n      <th>year</th>\n      <th>image</th>\n      <th>date_update</th>\n      <th>is_active</th>\n      <th>old_id</th>\n    </tr>\n  </thead>\n  <tbody>\n    <tr>\n      <th>0</th>\n      <td>1</td>\n      <td>4.6 MT (326 Hp)</td>\n      <td>1</td>\n      <td>AC</td>\n      <td>1</td>\n      <td>Ace</td>\n      <td>1</td>\n      <td>Ace</td>\n      <td>9</td>\n      <td>Roadster</td>\n      <td>...</td>\n      <td>Manual</td>\n      <td>1</td>\n      <td>Gasoline</td>\n      <td>4601</td>\n      <td>326</td>\n      <td>1997</td>\n      <td>ac-ace-roadster-1995</td>\n      <td>2018-10-12</td>\n      <td>1</td>\n      <td>0</td>\n    </tr>\n    <tr>\n      <th>1</th>\n      <td>48225</td>\n      <td>31631 2.2d MT (116 Hp) 4WD</td>\n      <td>161</td>\n      <td>UAZ</td>\n      <td>1062</td>\n      <td>Patriot</td>\n      <td>5087</td>\n      <td>I</td>\n      <td>21</td>\n      <td>SUV 5-Door</td>\n      <td>...</td>\n      <td>Manual</td>\n      <td>2</td>\n      <td>Diesel</td>\n      <td>2287</td>\n      <td>116</td>\n      <td>2004</td>\n      <td>uaz-patriot-i-suv-5-door-2004</td>\n      <td>2020-05-06</td>\n      <td>1</td>\n      <td>0</td>\n    </tr>\n    <tr>\n      <th>2</th>\n      <td>2</td>\n      <td>2.9 AT (195 Hp)</td>\n      <td>1</td>\n      <td>AC</td>\n      <td>1</td>\n      <td>Ace</td>\n      <td>1</td>\n      <td>Ace</td>\n      <td>9</td>\n      <td>Roadster</td>\n      <td>...</td>\n      <td>Automatic</td>\n      <td>1</td>\n      <td>Gasoline</td>\n      <td>2900</td>\n      <td>195</td>\n      <td>1995</td>\n      <td>ac-ace-roadster-1992</td>\n      <td>2016-11-17</td>\n      <td>1</td>\n      <td>0</td>\n    </tr>\n    <tr>\n      <th>3</th>\n      <td>3</td>\n      <td>2.9 MT (195 Hp)</td>\n      <td>1</td>\n      <td>AC</td>\n      <td>1</td>\n      <td>Ace</td>\n      <td>1</td>\n      <td>Ace</td>\n      <td>9</td>\n      <td>Roadster</td>\n      <td>...</td>\n      <td>Manual</td>\n      <td>1</td>\n      <td>Gasoline</td>\n      <td>2900</td>\n      <td>195</td>\n      <td>1995</td>\n      <td>ac-ace-roadster-1992</td>\n      <td>2016-11-17</td>\n      <td>1</td>\n      <td>0</td>\n    </tr>\n    <tr>\n      <th>4</th>\n      <td>4</td>\n      <td>3.0 MT (223 Hp)</td>\n      <td>1</td>\n      <td>AC</td>\n      <td>1</td>\n      <td>Ace</td>\n      <td>1</td>\n      <td>Ace</td>\n      <td>9</td>\n      <td>Roadster</td>\n      <td>...</td>\n      <td>Manual</td>\n      <td>1</td>\n      <td>Gasoline</td>\n      <td>3000</td>\n      <td>223</td>\n      <td>1995</td>\n      <td>ac-ace-roadster-1992</td>\n      <td>2016-11-17</td>\n      <td>1</td>\n      <td>0</td>\n    </tr>\n  </tbody>\n</table>\n<p>5 rows × 23 columns</p>\n</div>"
     },
     "execution_count": 12,
     "metadata": {},
     "output_type": "execute_result"
    }
   ],
   "source": [
    "data.head()"
   ],
   "metadata": {
    "collapsed": false
   }
  },
  {
   "cell_type": "code",
   "execution_count": 34,
   "outputs": [],
   "source": [
    "grouped = data.groupby(['make','model'])"
   ],
   "metadata": {
    "collapsed": false
   }
  }
 ],
 "metadata": {
  "kernelspec": {
   "display_name": "Python 3",
   "language": "python",
   "name": "python3"
  },
  "language_info": {
   "codemirror_mode": {
    "name": "ipython",
    "version": 2
   },
   "file_extension": ".py",
   "mimetype": "text/x-python",
   "name": "python",
   "nbconvert_exporter": "python",
   "pygments_lexer": "ipython2",
   "version": "2.7.6"
  }
 },
 "nbformat": 4,
 "nbformat_minor": 0
}
